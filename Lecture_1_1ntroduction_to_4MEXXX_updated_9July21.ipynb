{
  "nbformat": 4,
  "nbformat_minor": 0,
  "metadata": {
    "colab": {
      "name": "Lecture_1_1ntroduction_to_4MEXXX_updated_9July21.ipynb",
      "provenance": [],
      "include_colab_link": true
    },
    "kernelspec": {
      "display_name": "Python 3",
      "language": "python",
      "name": "python3"
    },
    "language_info": {
      "codemirror_mode": {
        "name": "ipython",
        "version": 3
      },
      "file_extension": ".py",
      "mimetype": "text/x-python",
      "name": "python",
      "nbconvert_exporter": "python",
      "pygments_lexer": "ipython3",
      "version": "3.7.7"
    }
  },
  "cells": [
    {
      "cell_type": "markdown",
      "metadata": {
        "id": "view-in-github",
        "colab_type": "text"
      },
      "source": [
        "<a href=\"https://colab.research.google.com/github/Johnnierb/pymaterialsnb/blob/master/Lecture_1_1ntroduction_to_4MEXXX_updated_9July21.ipynb\" target=\"_parent\"><img src=\"https://colab.research.google.com/assets/colab-badge.svg\" alt=\"Open In Colab\"/></a>"
      ]
    },
    {
      "cell_type": "markdown",
      "metadata": {
        "id": "RFbbzP8CGDOg"
      },
      "source": [
        "# **4MExxx Asynchronous Session 1 - What do materials engineers do?**\n",
        "## Dr John Robertson-Begg"
      ]
    },
    {
      "cell_type": "markdown",
      "metadata": {
        "id": "f4icXQAQw7Xv"
      },
      "source": [
        "This presentation was built using Jupyter notebooks. You will learn about these as we go through this module. You can view slide presentations by clicking on the arrows at the bottom and also open in a new window for full screen experience. You can download them with the buttons on the bottom of the windows. Within presentations you might see links to external  websites and some questions associated with them. I hope you enjoy this interactive format."
      ]
    },
    {
      "cell_type": "code",
      "metadata": {
        "id": "hrmc_dcQcY5u"
      },
      "source": [
        "import IPython.display\n",
        "from IPython.display import HTML\n",
        "from IPython.display import IFrame\n",
        "from IPython.core.display import display"
      ],
      "execution_count": null,
      "outputs": []
    },
    {
      "cell_type": "markdown",
      "metadata": {
        "id": "c2QrphQMw7Xw"
      },
      "source": [
        "### The following is a short presentation about the role of engineers. There is a link within the presentation to find out what the main skills materials engineers require."
      ]
    },
    {
      "cell_type": "markdown",
      "metadata": {
        "id": "HQRYq2p9w7Xx"
      },
      "source": [
        "\n",
        "\n",
        "\n",
        "\n",
        "\n",
        "\n",
        "\n",
        "\n",
        "\n",
        "\n",
        "\n",
        "\n"
      ]
    },
    {
      "cell_type": "code",
      "metadata": {
        "id": "LJwNcSlow7Xx",
        "outputId": "28273bf6-40e8-4495-fba7-54053aa92ad0"
      },
      "source": [
        "display(IFrame('https://derby.cloud.panopto.eu/Panopto/Pages/Viewer.aspx?id=e8f335fa-0cf7-4fff-812a-ad6000b14c7d','1000px','500px'))"
      ],
      "execution_count": null,
      "outputs": [
        {
          "output_type": "display_data",
          "data": {
            "text/html": [
              "\n",
              "        <iframe\n",
              "            width=\"1000px\"\n",
              "            height=\"500px\"\n",
              "            src=\"https://derby.cloud.panopto.eu/Panopto/Pages/Viewer.aspx?id=e8f335fa-0cf7-4fff-812a-ad6000b14c7d\"\n",
              "            frameborder=\"0\"\n",
              "            allowfullscreen\n",
              "        ></iframe>\n",
              "        "
            ],
            "text/plain": [
              "<IPython.lib.display.IFrame at 0x7f17077f7910>"
            ]
          },
          "metadata": {
            "tags": []
          }
        }
      ]
    },
    {
      "cell_type": "markdown",
      "metadata": {
        "id": "4q2UN1S-w7Xy"
      },
      "source": [
        "### The following are the slides from the above presentation"
      ]
    },
    {
      "cell_type": "code",
      "metadata": {
        "colab": {
          "base_uri": "https://localhost:8080/",
          "height": 621
        },
        "id": "cStXrbfd7Kzo",
        "outputId": "aad1c9f9-bbea-4161-976e-3cb6e1d32fc2"
      },
      "source": [
        "display(IFrame('https://onedrive.live.com/embed?cid=FC1F2246B44A2818&amp;resid=FC1F2246B44A2818%21908&amp;authkey=AIHyd7XgVHGncCc&amp;em=2&amp;wdAr=1.7777777777777777', '500px', '250px'))"
      ],
      "execution_count": null,
      "outputs": [
        {
          "output_type": "display_data",
          "data": {
            "text/html": [
              "\n",
              "        <iframe\n",
              "            width=\"500px\"\n",
              "            height=\"250px\"\n",
              "            src=\"https://onedrive.live.com/embed?cid=FC1F2246B44A2818&amp;resid=FC1F2246B44A2818%21908&amp;authkey=AIHyd7XgVHGncCc&amp;em=2&amp;wdAr=1.7777777777777777\"\n",
              "            frameborder=\"0\"\n",
              "            allowfullscreen\n",
              "        ></iframe>\n",
              "        "
            ],
            "text/plain": [
              "<IPython.lib.display.IFrame at 0x7f17077f74d0>"
            ]
          },
          "metadata": {
            "tags": []
          }
        }
      ]
    },
    {
      "cell_type": "markdown",
      "metadata": {
        "id": "lONNl6VZRWRH"
      },
      "source": [
        "### Some Background in chemistry is a good start. You will come across lots of sources of information about materials in this course. The following slides give us a first example and maybe some revision. These slides are produced by ANSYS Granta to support teaching of materials. Your lecturer talks over them in the video presentation below (To Be added)."
      ]
    },
    {
      "cell_type": "code",
      "metadata": {
        "colab": {
          "base_uri": "https://localhost:8080/",
          "height": 621
        },
        "id": "QHjkScj1cxQT",
        "outputId": "58b3cc02-174f-44f8-ed4b-ff8f0ece49cd"
      },
      "source": [
        "display(IFrame('https://onedrive.live.com/embed?cid=FC1F2246B44A2818&amp;resid=FC1F2246B44A2818%21896&amp;authkey=ALOd_la1fz0MENA&amp;em=2&amp;wdAr=1.7777777777777777','500px','250px'))"
      ],
      "execution_count": null,
      "outputs": [
        {
          "output_type": "display_data",
          "data": {
            "text/html": [
              "\n",
              "        <iframe\n",
              "            width=\"500px\"\n",
              "            height=\"250px\"\n",
              "            src=\"https://onedrive.live.com/embed?cid=FC1F2246B44A2818&amp;resid=FC1F2246B44A2818%21896&amp;authkey=ALOd_la1fz0MENA&amp;em=2&amp;wdAr=1.7777777777777777\"\n",
              "            frameborder=\"0\"\n",
              "            allowfullscreen\n",
              "        ></iframe>\n",
              "        "
            ],
            "text/plain": [
              "<IPython.lib.display.IFrame at 0x7f17077f7b10>"
            ]
          },
          "metadata": {
            "tags": []
          }
        }
      ]
    },
    {
      "cell_type": "code",
      "metadata": {
        "id": "5wnPIH1Xw7X0"
      },
      "source": [
        ""
      ],
      "execution_count": null,
      "outputs": []
    }
  ]
}