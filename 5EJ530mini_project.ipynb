{
  "nbformat": 4,
  "nbformat_minor": 0,
  "metadata": {
    "kernelspec": {
      "display_name": "Python 3",
      "language": "python",
      "name": "python3"
    },
    "language_info": {
      "codemirror_mode": {
        "name": "ipython",
        "version": 3
      },
      "file_extension": ".py",
      "mimetype": "text/x-python",
      "name": "python",
      "nbconvert_exporter": "python",
      "pygments_lexer": "ipython3",
      "version": "3.7.3"
    },
    "colab": {
      "name": "5EJ530mini_project.ipynb",
      "provenance": [],
      "include_colab_link": true
    }
  },
  "cells": [
    {
      "cell_type": "markdown",
      "metadata": {
        "id": "view-in-github",
        "colab_type": "text"
      },
      "source": [
        "<a href=\"https://colab.research.google.com/github/Johnnierb/pymaterialsnb/blob/master/5EJ530mini_project.ipynb\" target=\"_parent\"><img src=\"https://colab.research.google.com/assets/colab-badge.svg\" alt=\"Open In Colab\"/></a>"
      ]
    },
    {
      "cell_type": "markdown",
      "metadata": {
        "id": "b6oKF-JC_eo5",
        "colab_type": "text"
      },
      "source": [
        "# 5EJ530 – Project Management and Team Leadership\n",
        "\n",
        "## Group Project\n",
        "\n",
        "\n",
        "\n",
        "\n",
        "\n",
        "\n",
        "\n"
      ]
    },
    {
      "cell_type": "markdown",
      "metadata": {
        "id": "ffgs06wn_eo7",
        "colab_type": "text"
      },
      "source": [
        "### Background Information  -  \n",
        "\n",
        "This enquiry came from a printing company in Derby. For confidentiality reasons the name of the company is being withheld. \n",
        "\n",
        "The company carries out conventional printing using litho web presses with UV cured inks as well as digital presses.\n",
        "\n",
        "The MD has been looking at emerging technology for a while and has been considering at developing a new business offering 3D printing services in both plastic and metal.\n",
        "\n",
        "They are trying to look at possible markets that they could enter using the Desktop Metal Studio (https://www.desktopmetal.com/products/studio/) system and the Stratasys F370 plastic printer (https://www.stratasys.com/).\n",
        "\n",
        "Sectors considered so far are:  small machine parts, reproduction parts, reverse engineering (classic car parts or replacement parts for machinery), prototypes, tooling spares, an output bureau for engineering firms to utilise 3D print etc. \n",
        "\n",
        "They have a contact at a Derby based engineering firm that has shown interest in using the Desktop Metal printer if they do decide to invest in one."
      ]
    },
    {
      "cell_type": "markdown",
      "metadata": {
        "id": "HziY3nz1_eo8",
        "colab_type": "text"
      },
      "source": [
        "### Quote from contact.\n",
        "\n",
        "“As you can see our ‘Blank piece of paper’ approach has its advantages and disadvantages but also has so many opportunities as we are not tied to a specific area at this point.\n",
        "\n",
        "We intend to start small and develop the service as our experience and knowledge grows.\n",
        "\n",
        "Initially it will be about getting efficient with the CAD side, printing plastic test pieces and then onto Desktop metal.\n",
        "\n",
        "However, any guidance from industry experts would be beneficial - so any suggestions or introductions to possible markets would be appreciated to make the project viable. \n",
        "\n",
        "I believe Sheffield University have just put a Desktop Metal machine in this summer and there are only 2 or 3 currently in the UK, so we think it would be a good time to embrace such technology.\n",
        "\n",
        "We are visiting TCT 3D at the NEC next week to talk to suppliers - it will be an interesting day and will hopefully get the company started on the 3D Print Project. “\n",
        "\n"
      ]
    },
    {
      "cell_type": "markdown",
      "metadata": {
        "id": "j1Il-P4g_eo9",
        "colab_type": "text"
      },
      "source": [
        "### The Brief\n",
        "As a team of five the task is to investigate the applications and market for 3D printing of products for the electrical and electronics market and make proposals and a project plan to exploit the market. For instance, one such application maybe in the printing of rechargeable lithium ion batteries. Other examples may be in other electrical components and casings. Printing of solar cells is another possibility. The image below shows a 3D PCB."
      ]
    },
    {
      "cell_type": "markdown",
      "metadata": {
        "id": "G8woFJyK_eo-",
        "colab_type": "text"
      },
      "source": [
        "![electronic%20part.png](attachment:electronic%20part.png)"
      ]
    },
    {
      "cell_type": "markdown",
      "metadata": {
        "id": "8ZfCOsmu_eo_",
        "colab_type": "text"
      },
      "source": [
        "## Suggested steps\n",
        "\n",
        "- Literature search on the process and applications as well as the current market\n",
        "- Brainstorm and document (maybe in mind genius) ideas\n",
        "- Investigate possible applications based on the technology proposed.\n",
        "- Make suggestions on other technology\n",
        "- Produce a financial forecast – initial cost, likely cash inflows\n",
        "- Plan out a timescale for introduction\n",
        "- Option – produce a prototype of an application in the makerspace\n",
        "- Produce a final report and presentation."
      ]
    },
    {
      "cell_type": "markdown",
      "metadata": {
        "id": "eKDKRfuk_epA",
        "colab_type": "text"
      },
      "source": [
        "Dr John Robertson-Begg 11th November 2019"
      ]
    }
  ]
}