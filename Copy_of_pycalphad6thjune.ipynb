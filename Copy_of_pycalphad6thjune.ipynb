{
  "nbformat": 4,
  "nbformat_minor": 0,
  "metadata": {
    "colab": {
      "name": "Copy of pycalphad6thjune.ipynb",
      "provenance": [],
      "include_colab_link": true
    },
    "kernelspec": {
      "name": "python3",
      "display_name": "Python 3"
    }
  },
  "cells": [
    {
      "cell_type": "markdown",
      "metadata": {
        "id": "view-in-github",
        "colab_type": "text"
      },
      "source": [
        "<a href=\"https://colab.research.google.com/github/Johnnierb/pymaterialsnb/blob/master/Copy_of_pycalphad6thjune.ipynb\" target=\"_parent\"><img src=\"https://colab.research.google.com/assets/colab-badge.svg\" alt=\"Open In Colab\"/></a>"
      ]
    },
    {
      "cell_type": "markdown",
      "metadata": {
        "id": "kwO5ozKzvk7p",
        "colab_type": "text"
      },
      "source": [
        "# A notebook for running pycalphad using colaboratory"
      ]
    },
    {
      "cell_type": "markdown",
      "metadata": {
        "id": "lhm5SbpAwAxN",
        "colab_type": "text"
      },
      "source": [
        "## First install dependencies SymEngine ans ipopt using the following code"
      ]
    },
    {
      "cell_type": "code",
      "metadata": {
        "id": "tu2FUD16D1EL",
        "colab_type": "code",
        "colab": {}
      },
      "source": [
        "!pip install SymEngine"
      ],
      "execution_count": 0,
      "outputs": []
    },
    {
      "cell_type": "code",
      "metadata": {
        "id": "0A4mfEZVcc1y",
        "colab_type": "code",
        "colab": {}
      },
      "source": [
        "!apt install coinor-libipopt-dev"
      ],
      "execution_count": 0,
      "outputs": []
    },
    {
      "cell_type": "code",
      "metadata": {
        "id": "coce7QJxest_",
        "colab_type": "code",
        "colab": {}
      },
      "source": [
        "!pip install ipopt"
      ],
      "execution_count": 0,
      "outputs": []
    },
    {
      "cell_type": "markdown",
      "metadata": {
        "id": "AVlOuUe2wS_Q",
        "colab_type": "text"
      },
      "source": [
        "## Next install pycalphad"
      ]
    },
    {
      "cell_type": "code",
      "metadata": {
        "id": "xR1oN2jYOJJY",
        "colab_type": "code",
        "colab": {}
      },
      "source": [
        "!pip install pycalphad"
      ],
      "execution_count": 0,
      "outputs": []
    },
    {
      "cell_type": "code",
      "metadata": {
        "id": "hzMRwAx1m_Cq",
        "colab_type": "code",
        "colab": {}
      },
      "source": [
        "from google.colab import drive\n",
        "drive.mount('/content/drive')"
      ],
      "execution_count": 0,
      "outputs": []
    },
    {
      "cell_type": "code",
      "metadata": {
        "id": "uc30KBvWJ4RV",
        "colab_type": "code",
        "outputId": "8cba4022-a568-4042-b61d-ec3d0dda93ce",
        "colab": {
          "base_uri": "https://localhost:8080/",
          "height": 433
        }
      },
      "source": [
        "%matplotlib inline\n",
        "import matplotlib.pyplot as plt\n",
        "from pycalphad import Database, binplot\n",
        "import pycalphad.variables as v\n",
        "\n",
        "# Load database and choose the phases that will be considered\n",
        "db_alzn = Database('/content/drive/My Drive/alzn_mey.tdb')\n",
        "my_phases_alzn = ['LIQUID', 'FCC_A1', 'HCP_A3']\n",
        "\n",
        "# Create a matplotlib Figure object and get the active Axes\n",
        "fig = plt.figure(figsize=(9,6))\n",
        "axes = fig.gca()\n",
        "\n",
        "# Compute the phase diagram and plot it on the existing axes using the `plot_kwargs={'ax': axes}` keyword argument\n",
        "binplot(db_alzn, ['AL', 'ZN', 'VA'] , my_phases_alzn, {v.X('ZN'):(0,1,0.02), v.T: (300, 1000, 10), v.P:101325, v.N: 1}, plot_kwargs={'ax': axes})\n",
        "\n",
        "plt.show()"
      ],
      "execution_count": 0,
      "outputs": [
        {
          "output_type": "display_data",
          "data": {
            "image/png": "[encoded data removed]",
            "text/plain": [
              "<Figure size 648x432 with 1 Axes>"
            ]
          },
          "metadata": {
            "tags": [],
            "needs_background": "light"
          }
        }
      ]
    }
  ]
}